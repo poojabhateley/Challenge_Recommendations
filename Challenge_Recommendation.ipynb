{
  "nbformat": 4,
  "nbformat_minor": 0,
  "metadata": {
    "colab": {
      "name": "Challenge_Recommendation.ipynb",
      "provenance": [],
      "collapsed_sections": [],
      "authorship_tag": "ABX9TyOlpkyVgckpaIGpsCTZtDAx",
      "include_colab_link": true
    },
    "kernelspec": {
      "name": "python3",
      "display_name": "Python 3"
    }
  },
  "cells": [
    {
      "cell_type": "markdown",
      "metadata": {
        "id": "view-in-github",
        "colab_type": "text"
      },
      "source": [
        "<a href=\"https://colab.research.google.com/github/poojabhateley/Challenge_Recommendations/blob/master/Challenge_Recommendation.ipynb\" target=\"_parent\"><img src=\"https://colab.research.google.com/assets/colab-badge.svg\" alt=\"Open In Colab\"/></a>"
      ]
    },
    {
      "cell_type": "code",
      "metadata": {
        "id": "-EHx-th_NmWX",
        "colab_type": "code",
        "colab": {}
      },
      "source": [
        "import pandas as pd\n",
        "import numpy as np\n",
        "import matplotlib.pyplot as plt\n",
        "import seaborn as sns\n",
        "%matplotlib inline\n",
        "\n",
        "from sklearn.feature_extraction.text import TfidfVectorizer\n",
        "from sklearn.metrics.pairwise import linear_kernel"
      ],
      "execution_count": 122,
      "outputs": []
    },
    {
      "cell_type": "code",
      "metadata": {
        "id": "jeO0bYLHN5R1",
        "colab_type": "code",
        "colab": {}
      },
      "source": [
        "df_chall=pd.read_csv('/content/challenges.csv')"
      ],
      "execution_count": 85,
      "outputs": []
    },
    {
      "cell_type": "code",
      "metadata": {
        "id": "sTGMqL8PN9nt",
        "colab_type": "code",
        "colab": {
          "base_uri": "https://localhost:8080/",
          "height": 221
        },
        "outputId": "42d2dc72-4ce8-4eeb-dc91-6ee0572771c6"
      },
      "source": [
        "df_chall.head()"
      ],
      "execution_count": 86,
      "outputs": [
        {
          "output_type": "execute_result",
          "data": {
            "text/html": [
              "<div>\n",
              "<style scoped>\n",
              "    .dataframe tbody tr th:only-of-type {\n",
              "        vertical-align: middle;\n",
              "    }\n",
              "\n",
              "    .dataframe tbody tr th {\n",
              "        vertical-align: top;\n",
              "    }\n",
              "\n",
              "    .dataframe thead th {\n",
              "        text-align: right;\n",
              "    }\n",
              "</style>\n",
              "<table border=\"1\" class=\"dataframe\">\n",
              "  <thead>\n",
              "    <tr style=\"text-align: right;\">\n",
              "      <th></th>\n",
              "      <th>challenge_id</th>\n",
              "      <th>contest_id</th>\n",
              "      <th>domain</th>\n",
              "      <th>subdomain</th>\n",
              "      <th>difficulty</th>\n",
              "      <th>solved_submission_count</th>\n",
              "      <th>total_submissions_count</th>\n",
              "    </tr>\n",
              "  </thead>\n",
              "  <tbody>\n",
              "    <tr>\n",
              "      <th>0</th>\n",
              "      <td>18e0a2dad5e127d6</td>\n",
              "      <td>c8ff662c97d345d2</td>\n",
              "      <td>Artificial Intelligence</td>\n",
              "      <td>Bot Building</td>\n",
              "      <td>0.978261</td>\n",
              "      <td>319.0</td>\n",
              "      <td>655.0</td>\n",
              "    </tr>\n",
              "    <tr>\n",
              "      <th>1</th>\n",
              "      <td>0251520ace81bc57</td>\n",
              "      <td>c8ff662c97d345d2</td>\n",
              "      <td>Algorithms</td>\n",
              "      <td>Strings</td>\n",
              "      <td>0.894473</td>\n",
              "      <td>765.0</td>\n",
              "      <td>1267.0</td>\n",
              "    </tr>\n",
              "    <tr>\n",
              "      <th>2</th>\n",
              "      <td>425f241df843cd89</td>\n",
              "      <td>c8ff662c97d345d2</td>\n",
              "      <td>Algorithms</td>\n",
              "      <td>Strings</td>\n",
              "      <td>0.908853</td>\n",
              "      <td>1247.0</td>\n",
              "      <td>1864.0</td>\n",
              "    </tr>\n",
              "    <tr>\n",
              "      <th>3</th>\n",
              "      <td>970eca328814a522</td>\n",
              "      <td>c8ff662c97d345d2</td>\n",
              "      <td>Algorithms</td>\n",
              "      <td>Strings</td>\n",
              "      <td>0.902722</td>\n",
              "      <td>453.0</td>\n",
              "      <td>835.0</td>\n",
              "    </tr>\n",
              "    <tr>\n",
              "      <th>4</th>\n",
              "      <td>46592c29655cfc5e</td>\n",
              "      <td>c8ff662c97d345d2</td>\n",
              "      <td>Algorithms</td>\n",
              "      <td>Strings</td>\n",
              "      <td>0.900000</td>\n",
              "      <td>312.0</td>\n",
              "      <td>1363.0</td>\n",
              "    </tr>\n",
              "  </tbody>\n",
              "</table>\n",
              "</div>"
            ],
            "text/plain": [
              "       challenge_id  ... total_submissions_count\n",
              "0  18e0a2dad5e127d6  ...                   655.0\n",
              "1  0251520ace81bc57  ...                  1267.0\n",
              "2  425f241df843cd89  ...                  1864.0\n",
              "3  970eca328814a522  ...                   835.0\n",
              "4  46592c29655cfc5e  ...                  1363.0\n",
              "\n",
              "[5 rows x 7 columns]"
            ]
          },
          "metadata": {
            "tags": []
          },
          "execution_count": 86
        }
      ]
    },
    {
      "cell_type": "code",
      "metadata": {
        "id": "aHaguqsjOBk5",
        "colab_type": "code",
        "colab": {}
      },
      "source": [
        "df_sub=pd.read_csv('/content/submissions.csv')"
      ],
      "execution_count": 87,
      "outputs": []
    },
    {
      "cell_type": "code",
      "metadata": {
        "id": "vr_aNXcPOOL4",
        "colab_type": "code",
        "colab": {
          "base_uri": "https://localhost:8080/",
          "height": 204
        },
        "outputId": "9fc72912-84d6-43c2-bbc9-0c6048c00c29"
      },
      "source": [
        "df_sub.head()"
      ],
      "execution_count": 88,
      "outputs": [
        {
          "output_type": "execute_result",
          "data": {
            "text/html": [
              "<div>\n",
              "<style scoped>\n",
              "    .dataframe tbody tr th:only-of-type {\n",
              "        vertical-align: middle;\n",
              "    }\n",
              "\n",
              "    .dataframe tbody tr th {\n",
              "        vertical-align: top;\n",
              "    }\n",
              "\n",
              "    .dataframe thead th {\n",
              "        text-align: right;\n",
              "    }\n",
              "</style>\n",
              "<table border=\"1\" class=\"dataframe\">\n",
              "  <thead>\n",
              "    <tr style=\"text-align: right;\">\n",
              "      <th></th>\n",
              "      <th>user_id</th>\n",
              "      <th>contest_id</th>\n",
              "      <th>challenge_id</th>\n",
              "      <th>language</th>\n",
              "      <th>solved</th>\n",
              "      <th>created_at</th>\n",
              "    </tr>\n",
              "  </thead>\n",
              "  <tbody>\n",
              "    <tr>\n",
              "      <th>0</th>\n",
              "      <td>56d47667c6a9242e</td>\n",
              "      <td>c8ff662c97d345d2</td>\n",
              "      <td>6d95afeb4d968b91</td>\n",
              "      <td>java</td>\n",
              "      <td>0</td>\n",
              "      <td>2011-08-07 00:36:53 UTC</td>\n",
              "    </tr>\n",
              "    <tr>\n",
              "      <th>1</th>\n",
              "      <td>56d47667c6a9242e</td>\n",
              "      <td>c8ff662c97d345d2</td>\n",
              "      <td>6d95afeb4d968b91</td>\n",
              "      <td>java</td>\n",
              "      <td>0</td>\n",
              "      <td>2011-08-07 00:38:45 UTC</td>\n",
              "    </tr>\n",
              "    <tr>\n",
              "      <th>2</th>\n",
              "      <td>56d47667c6a9242e</td>\n",
              "      <td>c8ff662c97d345d2</td>\n",
              "      <td>6d95afeb4d968b91</td>\n",
              "      <td>java</td>\n",
              "      <td>0</td>\n",
              "      <td>2011-08-07 00:43:49 UTC</td>\n",
              "    </tr>\n",
              "    <tr>\n",
              "      <th>3</th>\n",
              "      <td>56d47667c6a9242e</td>\n",
              "      <td>c8ff662c97d345d2</td>\n",
              "      <td>6d95afeb4d968b91</td>\n",
              "      <td>java</td>\n",
              "      <td>0</td>\n",
              "      <td>2011-08-07 00:52:34 UTC</td>\n",
              "    </tr>\n",
              "    <tr>\n",
              "      <th>4</th>\n",
              "      <td>56d47667c6a9242e</td>\n",
              "      <td>c8ff662c97d345d2</td>\n",
              "      <td>6d95afeb4d968b91</td>\n",
              "      <td>java</td>\n",
              "      <td>0</td>\n",
              "      <td>2011-08-07 00:56:52 UTC</td>\n",
              "    </tr>\n",
              "  </tbody>\n",
              "</table>\n",
              "</div>"
            ],
            "text/plain": [
              "            user_id        contest_id  ... solved               created_at\n",
              "0  56d47667c6a9242e  c8ff662c97d345d2  ...      0  2011-08-07 00:36:53 UTC\n",
              "1  56d47667c6a9242e  c8ff662c97d345d2  ...      0  2011-08-07 00:38:45 UTC\n",
              "2  56d47667c6a9242e  c8ff662c97d345d2  ...      0  2011-08-07 00:43:49 UTC\n",
              "3  56d47667c6a9242e  c8ff662c97d345d2  ...      0  2011-08-07 00:52:34 UTC\n",
              "4  56d47667c6a9242e  c8ff662c97d345d2  ...      0  2011-08-07 00:56:52 UTC\n",
              "\n",
              "[5 rows x 6 columns]"
            ]
          },
          "metadata": {
            "tags": []
          },
          "execution_count": 88
        }
      ]
    },
    {
      "cell_type": "code",
      "metadata": {
        "id": "KcPBb3NBOQA-",
        "colab_type": "code",
        "colab": {
          "base_uri": "https://localhost:8080/",
          "height": 34
        },
        "outputId": "dcc43d87-5a04-4bcc-db43-67e92862a8a2"
      },
      "source": [
        "df_chall.shape"
      ],
      "execution_count": 89,
      "outputs": [
        {
          "output_type": "execute_result",
          "data": {
            "text/plain": [
              "(2785, 7)"
            ]
          },
          "metadata": {
            "tags": []
          },
          "execution_count": 89
        }
      ]
    },
    {
      "cell_type": "code",
      "metadata": {
        "id": "PoUnnnRSOezV",
        "colab_type": "code",
        "colab": {
          "base_uri": "https://localhost:8080/",
          "height": 153
        },
        "outputId": "1732a5d6-a4a9-4917-848b-34e58d7ee645"
      },
      "source": [
        "df_chall.isnull().sum()"
      ],
      "execution_count": 90,
      "outputs": [
        {
          "output_type": "execute_result",
          "data": {
            "text/plain": [
              "challenge_id               2492\n",
              "contest_id                 2492\n",
              "domain                     2656\n",
              "subdomain                  2656\n",
              "difficulty                 2492\n",
              "solved_submission_count    2492\n",
              "total_submissions_count    2492\n",
              "dtype: int64"
            ]
          },
          "metadata": {
            "tags": []
          },
          "execution_count": 90
        }
      ]
    },
    {
      "cell_type": "code",
      "metadata": {
        "id": "-kC8IflRUgca",
        "colab_type": "code",
        "colab": {}
      },
      "source": [
        "df_chall.dropna(axis=0,how='all',inplace=True)"
      ],
      "execution_count": 91,
      "outputs": []
    },
    {
      "cell_type": "code",
      "metadata": {
        "id": "zAsBiQ3AOi4n",
        "colab_type": "code",
        "colab": {
          "base_uri": "https://localhost:8080/",
          "height": 34
        },
        "outputId": "c517c281-9557-4387-91fa-e68c73b00ef0"
      },
      "source": [
        "df_chall.shape"
      ],
      "execution_count": 92,
      "outputs": [
        {
          "output_type": "execute_result",
          "data": {
            "text/plain": [
              "(293, 7)"
            ]
          },
          "metadata": {
            "tags": []
          },
          "execution_count": 92
        }
      ]
    },
    {
      "cell_type": "code",
      "metadata": {
        "id": "QwBFZBvUQoUf",
        "colab_type": "code",
        "colab": {
          "base_uri": "https://localhost:8080/",
          "height": 153
        },
        "outputId": "c985b89d-8ab5-45b2-8503-3ee6ff9e2c24"
      },
      "source": [
        "df_chall.isnull().sum()"
      ],
      "execution_count": 93,
      "outputs": [
        {
          "output_type": "execute_result",
          "data": {
            "text/plain": [
              "challenge_id                 0\n",
              "contest_id                   0\n",
              "domain                     164\n",
              "subdomain                  164\n",
              "difficulty                   0\n",
              "solved_submission_count      0\n",
              "total_submissions_count      0\n",
              "dtype: int64"
            ]
          },
          "metadata": {
            "tags": []
          },
          "execution_count": 93
        }
      ]
    },
    {
      "cell_type": "code",
      "metadata": {
        "id": "sRGZ7e4eU3pX",
        "colab_type": "code",
        "colab": {
          "base_uri": "https://localhost:8080/",
          "height": 221
        },
        "outputId": "b38b0d6e-6204-473e-88bb-5088a1496188"
      },
      "source": [
        "(df_chall['domain'].value_counts())/len(df_chall)*100"
      ],
      "execution_count": 94,
      "outputs": [
        {
          "output_type": "execute_result",
          "data": {
            "text/plain": [
              "Algorithms                 22.184300\n",
              "Regex                       5.802048\n",
              "SQL                         4.095563\n",
              "Mathematics                 2.730375\n",
              "Data Structures             2.047782\n",
              "Artificial Intelligence     2.047782\n",
              "Java                        1.365188\n",
              "Tutorials                   1.365188\n",
              "C++                         1.023891\n",
              "Security                    0.682594\n",
              "Python                      0.682594\n",
              "Name: domain, dtype: float64"
            ]
          },
          "metadata": {
            "tags": []
          },
          "execution_count": 94
        }
      ]
    },
    {
      "cell_type": "code",
      "metadata": {
        "id": "j3h5wS_uZuSE",
        "colab_type": "code",
        "colab": {
          "base_uri": "https://localhost:8080/",
          "height": 391
        },
        "outputId": "4153091b-b08d-41cd-8a88-c8e2f05c97ac"
      },
      "source": [
        "(df_chall['subdomain'].value_counts())/len(df_chall)*100"
      ],
      "execution_count": 95,
      "outputs": [
        {
          "output_type": "execute_result",
          "data": {
            "text/plain": [
              "Implementation            6.484642\n",
              "Strings                   4.436860\n",
              "Introduction              4.436860\n",
              "Sorting                   4.436860\n",
              "Basic Select              4.095563\n",
              "Warmup                    2.730375\n",
              "Dynamic Programming       2.730375\n",
              "Fundamentals              2.389078\n",
              "Bot Building              2.047782\n",
              "Repetitions               1.706485\n",
              "Linked Lists              1.706485\n",
              "30 Days of Code           1.365188\n",
              "Grouping and Capturing    1.023891\n",
              "Character Class           1.023891\n",
              "Graph Theory              1.023891\n",
              "Functions                 0.682594\n",
              "Arrays                    0.341297\n",
              "Basic Data Types          0.341297\n",
              "Search                    0.341297\n",
              "Combinatorics             0.341297\n",
              "Greedy                    0.341297\n",
              "Name: subdomain, dtype: float64"
            ]
          },
          "metadata": {
            "tags": []
          },
          "execution_count": 95
        }
      ]
    },
    {
      "cell_type": "code",
      "metadata": {
        "id": "ULPsR7zlVPjh",
        "colab_type": "code",
        "colab": {}
      },
      "source": [
        "df_chall[\"domain\"]=df_chall[\"domain\"].fillna('Algorithms')"
      ],
      "execution_count": 96,
      "outputs": []
    },
    {
      "cell_type": "code",
      "metadata": {
        "id": "Uqgj_kleXRLg",
        "colab_type": "code",
        "colab": {
          "base_uri": "https://localhost:8080/",
          "height": 153
        },
        "outputId": "07c92dcb-5a2d-471a-c4f7-4e663af4bbd6"
      },
      "source": [
        "df_chall.isnull().sum()"
      ],
      "execution_count": 97,
      "outputs": [
        {
          "output_type": "execute_result",
          "data": {
            "text/plain": [
              "challenge_id                 0\n",
              "contest_id                   0\n",
              "domain                       0\n",
              "subdomain                  164\n",
              "difficulty                   0\n",
              "solved_submission_count      0\n",
              "total_submissions_count      0\n",
              "dtype: int64"
            ]
          },
          "metadata": {
            "tags": []
          },
          "execution_count": 97
        }
      ]
    },
    {
      "cell_type": "code",
      "metadata": {
        "id": "tC3TrzVFZnxW",
        "colab_type": "code",
        "colab": {}
      },
      "source": [
        "df_chall['subdomain'] = df_chall.groupby('domain').transform(lambda x: x.fillna(x.mode()[0]))['subdomain']"
      ],
      "execution_count": 98,
      "outputs": []
    },
    {
      "cell_type": "code",
      "metadata": {
        "id": "idcQZCosak1O",
        "colab_type": "code",
        "colab": {
          "base_uri": "https://localhost:8080/",
          "height": 153
        },
        "outputId": "0e51223b-bd51-4daf-b3cc-94978ef6531b"
      },
      "source": [
        "df_chall.isnull().sum()"
      ],
      "execution_count": 99,
      "outputs": [
        {
          "output_type": "execute_result",
          "data": {
            "text/plain": [
              "challenge_id               0\n",
              "contest_id                 0\n",
              "domain                     0\n",
              "subdomain                  0\n",
              "difficulty                 0\n",
              "solved_submission_count    0\n",
              "total_submissions_count    0\n",
              "dtype: int64"
            ]
          },
          "metadata": {
            "tags": []
          },
          "execution_count": 99
        }
      ]
    },
    {
      "cell_type": "code",
      "metadata": {
        "id": "9CjchYO-b_AM",
        "colab_type": "code",
        "colab": {
          "base_uri": "https://localhost:8080/",
          "height": 391
        },
        "outputId": "4fd95101-023b-427e-980f-474d06740c6d"
      },
      "source": [
        "(df_chall['subdomain'].value_counts())/len(df_chall)*100"
      ],
      "execution_count": 100,
      "outputs": [
        {
          "output_type": "execute_result",
          "data": {
            "text/plain": [
              "Implementation            62.457338\n",
              "Strings                    4.436860\n",
              "Introduction               4.436860\n",
              "Sorting                    4.436860\n",
              "Basic Select               4.095563\n",
              "Warmup                     2.730375\n",
              "Dynamic Programming        2.730375\n",
              "Fundamentals               2.389078\n",
              "Bot Building               2.047782\n",
              "Repetitions                1.706485\n",
              "Linked Lists               1.706485\n",
              "30 Days of Code            1.365188\n",
              "Grouping and Capturing     1.023891\n",
              "Character Class            1.023891\n",
              "Graph Theory               1.023891\n",
              "Functions                  0.682594\n",
              "Arrays                     0.341297\n",
              "Basic Data Types           0.341297\n",
              "Search                     0.341297\n",
              "Combinatorics              0.341297\n",
              "Greedy                     0.341297\n",
              "Name: subdomain, dtype: float64"
            ]
          },
          "metadata": {
            "tags": []
          },
          "execution_count": 100
        }
      ]
    },
    {
      "cell_type": "code",
      "metadata": {
        "id": "JgdfJQsEaoN2",
        "colab_type": "code",
        "colab": {
          "base_uri": "https://localhost:8080/",
          "height": 389
        },
        "outputId": "1256028f-d0b2-4777-9260-51e6d6f74146"
      },
      "source": [
        "df_chall.groupby('domain')['challenge_id'].count().plot.bar()"
      ],
      "execution_count": 101,
      "outputs": [
        {
          "output_type": "execute_result",
          "data": {
            "text/plain": [
              "<matplotlib.axes._subplots.AxesSubplot at 0x7fe308b31e48>"
            ]
          },
          "metadata": {
            "tags": []
          },
          "execution_count": 101
        },
        {
          "output_type": "display_data",
          "data": {
            "image/png": "[encoded data removed]",
            "text/plain": [
              "<Figure size 432x288 with 1 Axes>"
            ]
          },
          "metadata": {
            "tags": [],
            "needs_background": "light"
          }
        }
      ]
    },
    {
      "cell_type": "code",
      "metadata": {
        "id": "IfGCypZva2x0",
        "colab_type": "code",
        "colab": {
          "base_uri": "https://localhost:8080/",
          "height": 407
        },
        "outputId": "7d5c7a9a-0473-494f-9e3b-72410e5541db"
      },
      "source": [
        "df_chall.groupby('subdomain')['challenge_id'].count().plot.bar()"
      ],
      "execution_count": 102,
      "outputs": [
        {
          "output_type": "execute_result",
          "data": {
            "text/plain": [
              "<matplotlib.axes._subplots.AxesSubplot at 0x7fe3089de5f8>"
            ]
          },
          "metadata": {
            "tags": []
          },
          "execution_count": 102
        },
        {
          "output_type": "display_data",
          "data": {
            "image/png": "[encoded data removed]",
            "text/plain": [
              "<Figure size 432x288 with 1 Axes>"
            ]
          },
          "metadata": {
            "tags": [],
            "needs_background": "light"
          }
        }
      ]
    },
    {
      "cell_type": "code",
      "metadata": {
        "id": "OFJA4udFb4Jd",
        "colab_type": "code",
        "colab": {
          "base_uri": "https://localhost:8080/",
          "height": 407
        },
        "outputId": "ffe25ba8-adc8-48e6-989e-74c807d69092"
      },
      "source": [
        "df_chall.groupby('subdomain')['total_submissions_count'].count().plot.bar()"
      ],
      "execution_count": 103,
      "outputs": [
        {
          "output_type": "execute_result",
          "data": {
            "text/plain": [
              "<matplotlib.axes._subplots.AxesSubplot at 0x7fe3089a24e0>"
            ]
          },
          "metadata": {
            "tags": []
          },
          "execution_count": 103
        },
        {
          "output_type": "display_data",
          "data": {
            "image/png": "[encoded data removed]",
            "text/plain": [
              "<Figure size 432x288 with 1 Axes>"
            ]
          },
          "metadata": {
            "tags": [],
            "needs_background": "light"
          }
        }
      ]
    },
    {
      "cell_type": "code",
      "metadata": {
        "id": "9idApncvcWsn",
        "colab_type": "code",
        "colab": {
          "base_uri": "https://localhost:8080/",
          "height": 389
        },
        "outputId": "d84f70fb-7916-47c7-b199-680af631619d"
      },
      "source": [
        "df_chall.groupby('domain')['total_submissions_count'].count().plot.bar()"
      ],
      "execution_count": 104,
      "outputs": [
        {
          "output_type": "execute_result",
          "data": {
            "text/plain": [
              "<matplotlib.axes._subplots.AxesSubplot at 0x7fe3088346d8>"
            ]
          },
          "metadata": {
            "tags": []
          },
          "execution_count": 104
        },
        {
          "output_type": "display_data",
          "data": {
            "image/png": "[encoded data removed]",
            "text/plain": [
              "<Figure size 432x288 with 1 Axes>"
            ]
          },
          "metadata": {
            "tags": [],
            "needs_background": "light"
          }
        }
      ]
    },
    {
      "cell_type": "code",
      "metadata": {
        "id": "uZ6kZsBAcZl5",
        "colab_type": "code",
        "colab": {
          "base_uri": "https://localhost:8080/",
          "height": 390
        },
        "outputId": "97d8c002-3ea1-4f5b-a882-874ec6cc857a"
      },
      "source": [
        "df_chall.groupby('domain')['difficulty'].mean().plot.bar()"
      ],
      "execution_count": 105,
      "outputs": [
        {
          "output_type": "execute_result",
          "data": {
            "text/plain": [
              "<matplotlib.axes._subplots.AxesSubplot at 0x7fe308b4a668>"
            ]
          },
          "metadata": {
            "tags": []
          },
          "execution_count": 105
        },
        {
          "output_type": "display_data",
          "data": {
            "image/png": "[encoded data removed]",
            "text/plain": [
              "<Figure size 432x288 with 1 Axes>"
            ]
          },
          "metadata": {
            "tags": [],
            "needs_background": "light"
          }
        }
      ]
    },
    {
      "cell_type": "code",
      "metadata": {
        "id": "S9OVPIzicksa",
        "colab_type": "code",
        "colab": {
          "base_uri": "https://localhost:8080/",
          "height": 407
        },
        "outputId": "fb66ca3d-9a22-4020-e983-ae8dda7b1c6c"
      },
      "source": [
        "df_chall.groupby('subdomain')['difficulty'].mean().plot.bar()"
      ],
      "execution_count": 106,
      "outputs": [
        {
          "output_type": "execute_result",
          "data": {
            "text/plain": [
              "<matplotlib.axes._subplots.AxesSubplot at 0x7fe308ae9cc0>"
            ]
          },
          "metadata": {
            "tags": []
          },
          "execution_count": 106
        },
        {
          "output_type": "display_data",
          "data": {
            "image/png": "[encoded data removed]",
            "text/plain": [
              "<Figure size 432x288 with 1 Axes>"
            ]
          },
          "metadata": {
            "tags": [],
            "needs_background": "light"
          }
        }
      ]
    },
    {
      "cell_type": "code",
      "metadata": {
        "id": "IueV8UETcpCg",
        "colab_type": "code",
        "colab": {
          "base_uri": "https://localhost:8080/",
          "height": 578
        },
        "outputId": "feb10a9d-41d0-44a9-8435-c55899bfac96"
      },
      "source": [
        "df_chall['contest_id'].value_counts()/len(df_chall)*100"
      ],
      "execution_count": 107,
      "outputs": [
        {
          "output_type": "execute_result",
          "data": {
            "text/plain": [
              "c8ff662c97d345d2    45.392491\n",
              "5d70c374e6959faf    17.406143\n",
              "2b5fd89bb50d6c59     3.071672\n",
              "63facc3d92e52a61     2.047782\n",
              "29602fc1cf9ce49b     2.047782\n",
              "608d3889c41657fe     2.047782\n",
              "1bd6ef073f52be3d     2.047782\n",
              "c80106f265b9e037     1.706485\n",
              "860ce3deea5bbe9a     1.706485\n",
              "3dbbd40af3bf63a1     1.706485\n",
              "751a395fd0bdc16e     1.706485\n",
              "31ae41ddf9265f3c     1.706485\n",
              "deca314ce03bebaa     1.706485\n",
              "6d0f73fdaf822f9b     1.365188\n",
              "5516857d2c6c7c6c     1.365188\n",
              "b862c31b13a6438b     1.365188\n",
              "84f32ffa6676b2c1     1.365188\n",
              "9f7f33de05b07520     1.023891\n",
              "7039fc4af6ed4556     1.023891\n",
              "fc9dfb49eecb191d     1.023891\n",
              "07ed069995630442     1.023891\n",
              "2f6c6a2dd757af3e     1.023891\n",
              "005ad8d849ec3b61     1.023891\n",
              "13764f698dd09bb8     0.682594\n",
              "20de246c7ff33181     0.682594\n",
              "5a39df6c6eeed315     0.682594\n",
              "29e7c48f06d799bd     0.341297\n",
              "d9e6c7ce9a60ee61     0.341297\n",
              "60a9ba06b0186c33     0.341297\n",
              "626610cbea06c552     0.341297\n",
              "ce9a3f131a2bf4a7     0.341297\n",
              "daa4cc27262ca831     0.341297\n",
              "Name: contest_id, dtype: float64"
            ]
          },
          "metadata": {
            "tags": []
          },
          "execution_count": 107
        }
      ]
    },
    {
      "cell_type": "code",
      "metadata": {
        "id": "cIPcXqRac9Oj",
        "colab_type": "code",
        "colab": {
          "base_uri": "https://localhost:8080/",
          "height": 296
        },
        "outputId": "7e7bd4d0-9292-45f1-a774-14816ab32235"
      },
      "source": [
        "sns.scatterplot(x='difficulty',y='solved_submission_count',hue='domain',data=df_chall)"
      ],
      "execution_count": 113,
      "outputs": [
        {
          "output_type": "execute_result",
          "data": {
            "text/plain": [
              "<matplotlib.axes._subplots.AxesSubplot at 0x7fe306cec908>"
            ]
          },
          "metadata": {
            "tags": []
          },
          "execution_count": 113
        },
        {
          "output_type": "display_data",
          "data": {
            "image/png": "[encoded data removed]",
            "text/plain": [
              "<Figure size 432x288 with 1 Axes>"
            ]
          },
          "metadata": {
            "tags": [],
            "needs_background": "light"
          }
        }
      ]
    },
    {
      "cell_type": "code",
      "metadata": {
        "id": "AXZLwcVzdWPZ",
        "colab_type": "code",
        "colab": {
          "base_uri": "https://localhost:8080/",
          "height": 296
        },
        "outputId": "1e409ae8-a9e2-4f55-80f1-a630e841c4e0"
      },
      "source": [
        "sns.scatterplot(x='difficulty',y='total_submissions_count',hue='domain',data=df_chall)"
      ],
      "execution_count": 115,
      "outputs": [
        {
          "output_type": "execute_result",
          "data": {
            "text/plain": [
              "<matplotlib.axes._subplots.AxesSubplot at 0x7fe307314ba8>"
            ]
          },
          "metadata": {
            "tags": []
          },
          "execution_count": 115
        },
        {
          "output_type": "display_data",
          "data": {
            "image/png": "[encoded data removed]",
            "text/plain": [
              "<Figure size 432x288 with 1 Axes>"
            ]
          },
          "metadata": {
            "tags": [],
            "needs_background": "light"
          }
        }
      ]
    },
    {
      "cell_type": "code",
      "metadata": {
        "id": "jLV4fbuzexmO",
        "colab_type": "code",
        "colab": {
          "base_uri": "https://localhost:8080/",
          "height": 136
        },
        "outputId": "9dbba5a3-3e10-4a49-e3f0-cddb4607c24c"
      },
      "source": [
        "df_sub.isnull().sum()"
      ],
      "execution_count": 116,
      "outputs": [
        {
          "output_type": "execute_result",
          "data": {
            "text/plain": [
              "user_id         0\n",
              "contest_id      0\n",
              "challenge_id    0\n",
              "language        0\n",
              "solved          0\n",
              "created_at      0\n",
              "dtype: int64"
            ]
          },
          "metadata": {
            "tags": []
          },
          "execution_count": 116
        }
      ]
    },
    {
      "cell_type": "code",
      "metadata": {
        "id": "wHW-IJWWe8py",
        "colab_type": "code",
        "colab": {}
      },
      "source": [
        "#applying a left join and combining the two data frames, to get the details of challenges for each userid\n",
        "#inner in this case, as there are a lot of non matching contest ids\n",
        "\n",
        "df_final=df_sub.merge(df_chall,on=['contest_id','challenge_id'],how='inner')"
      ],
      "execution_count": 126,
      "outputs": []
    },
    {
      "cell_type": "code",
      "metadata": {
        "id": "ekyqSLnYl2jN",
        "colab_type": "code",
        "colab": {
          "base_uri": "https://localhost:8080/",
          "height": 394
        },
        "outputId": "1a040ca6-cfb7-4ce3-8677-d7d167c2726a"
      },
      "source": [
        "df_final"
      ],
      "execution_count": 134,
      "outputs": [
        {
          "output_type": "execute_result",
          "data": {
            "text/html": [
              "<div>\n",
              "<style scoped>\n",
              "    .dataframe tbody tr th:only-of-type {\n",
              "        vertical-align: middle;\n",
              "    }\n",
              "\n",
              "    .dataframe tbody tr th {\n",
              "        vertical-align: top;\n",
              "    }\n",
              "\n",
              "    .dataframe thead th {\n",
              "        text-align: right;\n",
              "    }\n",
              "</style>\n",
              "<table border=\"1\" class=\"dataframe\">\n",
              "  <thead>\n",
              "    <tr style=\"text-align: right;\">\n",
              "      <th></th>\n",
              "      <th>user_id</th>\n",
              "      <th>contest_id</th>\n",
              "      <th>challenge_id</th>\n",
              "      <th>language</th>\n",
              "      <th>solved</th>\n",
              "      <th>created_at</th>\n",
              "      <th>domain</th>\n",
              "      <th>subdomain</th>\n",
              "      <th>difficulty</th>\n",
              "      <th>solved_submission_count</th>\n",
              "      <th>total_submissions_count</th>\n",
              "    </tr>\n",
              "  </thead>\n",
              "  <tbody>\n",
              "    <tr>\n",
              "      <th>0</th>\n",
              "      <td>69f4b4c4607cdc48</td>\n",
              "      <td>c8ff662c97d345d2</td>\n",
              "      <td>eb1c02ce8ab444ba</td>\n",
              "      <td>cpp</td>\n",
              "      <td>0</td>\n",
              "      <td>2012-03-02 12:20:23 UTC</td>\n",
              "      <td>Algorithms</td>\n",
              "      <td>Implementation</td>\n",
              "      <td>0.7</td>\n",
              "      <td>360.0</td>\n",
              "      <td>629.0</td>\n",
              "    </tr>\n",
              "    <tr>\n",
              "      <th>1</th>\n",
              "      <td>69f4b4c4607cdc48</td>\n",
              "      <td>c8ff662c97d345d2</td>\n",
              "      <td>eb1c02ce8ab444ba</td>\n",
              "      <td>cpp</td>\n",
              "      <td>1</td>\n",
              "      <td>2012-03-03 09:50:11 UTC</td>\n",
              "      <td>Algorithms</td>\n",
              "      <td>Implementation</td>\n",
              "      <td>0.7</td>\n",
              "      <td>360.0</td>\n",
              "      <td>629.0</td>\n",
              "    </tr>\n",
              "    <tr>\n",
              "      <th>2</th>\n",
              "      <td>69f4b4c4607cdc48</td>\n",
              "      <td>c8ff662c97d345d2</td>\n",
              "      <td>eb1c02ce8ab444ba</td>\n",
              "      <td>cpp</td>\n",
              "      <td>1</td>\n",
              "      <td>2012-03-03 09:59:26 UTC</td>\n",
              "      <td>Algorithms</td>\n",
              "      <td>Implementation</td>\n",
              "      <td>0.7</td>\n",
              "      <td>360.0</td>\n",
              "      <td>629.0</td>\n",
              "    </tr>\n",
              "    <tr>\n",
              "      <th>3</th>\n",
              "      <td>6cb954be439f8917</td>\n",
              "      <td>c8ff662c97d345d2</td>\n",
              "      <td>eb1c02ce8ab444ba</td>\n",
              "      <td>cpp</td>\n",
              "      <td>0</td>\n",
              "      <td>2012-03-03 13:35:43 UTC</td>\n",
              "      <td>Algorithms</td>\n",
              "      <td>Implementation</td>\n",
              "      <td>0.7</td>\n",
              "      <td>360.0</td>\n",
              "      <td>629.0</td>\n",
              "    </tr>\n",
              "    <tr>\n",
              "      <th>4</th>\n",
              "      <td>6cb954be439f8917</td>\n",
              "      <td>c8ff662c97d345d2</td>\n",
              "      <td>eb1c02ce8ab444ba</td>\n",
              "      <td>cpp</td>\n",
              "      <td>0</td>\n",
              "      <td>2012-03-03 13:39:25 UTC</td>\n",
              "      <td>Algorithms</td>\n",
              "      <td>Implementation</td>\n",
              "      <td>0.7</td>\n",
              "      <td>360.0</td>\n",
              "      <td>629.0</td>\n",
              "    </tr>\n",
              "  </tbody>\n",
              "</table>\n",
              "</div>"
            ],
            "text/plain": [
              "            user_id  ... total_submissions_count\n",
              "0  69f4b4c4607cdc48  ...                   629.0\n",
              "1  69f4b4c4607cdc48  ...                   629.0\n",
              "2  69f4b4c4607cdc48  ...                   629.0\n",
              "3  6cb954be439f8917  ...                   629.0\n",
              "4  6cb954be439f8917  ...                   629.0\n",
              "\n",
              "[5 rows x 11 columns]"
            ]
          },
          "metadata": {
            "tags": []
          },
          "execution_count": 134
        }
      ]
    },
    {
      "cell_type": "code",
      "metadata": {
        "id": "6IVM5UDagKxn",
        "colab_type": "code",
        "colab": {}
      },
      "source": [
        "tf = TfidfVectorizer(analyzer='word', ngram_range=(1, 3), min_df=0, stop_words='english')\n",
        "tfidf_matrix = tf.fit_transform(df_final['challenge_id'])\n",
        "\n",
        "cosine_similarities = linear_kernel(tfidf_matrix, tfidf_matrix)\n",
        "\n",
        "results = {}"
      ],
      "execution_count": 130,
      "outputs": []
    },
    {
      "cell_type": "code",
      "metadata": {
        "id": "JFOR8Jk4kq8t",
        "colab_type": "code",
        "colab": {
          "base_uri": "https://localhost:8080/",
          "height": 34
        },
        "outputId": "f266bdf7-ba5b-4591-f583-4532fe79cd01"
      },
      "source": [
        "for idx, row in df_final.iterrows():\n",
        "    similar_indices = cosine_similarities[idx].argsort()[:-100:-1]\n",
        "    similar_items = [(cosine_similarities[idx][i], df_final['user_id'][i]) for i in similar_indices]\n",
        "\n",
        "    results[row['user_id']] = similar_items[1:]\n",
        "print('done!')"
      ],
      "execution_count": 131,
      "outputs": [
        {
          "output_type": "stream",
          "text": [
            "done!\n"
          ],
          "name": "stdout"
        }
      ]
    },
    {
      "cell_type": "code",
      "metadata": {
        "id": "3cvpXLQBlZZ2",
        "colab_type": "code",
        "colab": {}
      },
      "source": [
        "def item(id):\n",
        "    return df_final.loc[df_final['user_id'] == id][''].tolist()[0]"
      ],
      "execution_count": 132,
      "outputs": []
    },
    {
      "cell_type": "code",
      "metadata": {
        "id": "ukvGsd9gltFq",
        "colab_type": "code",
        "colab": {}
      },
      "source": [
        "def recommend(item_id, num):\n",
        "    print(\"Recommending \" + str(num) + \" products similar to \" + item(item_id) + \"...\")\n",
        "    print(\"-------\")\n",
        "    recs = results[item_id][:num]\n",
        "    for rec in recs:\n",
        "        print(\"Recommended: \" + item(rec[1]) + \" (score:\" + str(rec[0]) + \")\")\n",
        "\n",
        "recommend(item_id='6cb954be439f8917', num=10)"
      ],
      "execution_count": null,
      "outputs": []
    }
  ]
}